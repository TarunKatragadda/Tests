{
 "cells": [
  {
   "cell_type": "code",
   "execution_count": 1,
   "id": "6fff77d6",
   "metadata": {},
   "outputs": [
    {
     "name": "stdout",
     "output_type": "stream",
     "text": [
      "Requirement already satisfied: pandas in c:\\users\\kv965\\appdata\\local\\programs\\python\\python311\\lib\\site-packages (2.3.0)\n",
      "Collecting openpyxl\n",
      "  Using cached openpyxl-3.1.5-py2.py3-none-any.whl.metadata (2.5 kB)\n",
      "Requirement already satisfied: numpy>=1.23.2 in c:\\users\\kv965\\appdata\\local\\programs\\python\\python311\\lib\\site-packages (from pandas) (2.3.0)\n",
      "Requirement already satisfied: python-dateutil>=2.8.2 in c:\\users\\kv965\\appdata\\roaming\\python\\python311\\site-packages (from pandas) (2.9.0.post0)\n",
      "Requirement already satisfied: pytz>=2020.1 in c:\\users\\kv965\\appdata\\local\\programs\\python\\python311\\lib\\site-packages (from pandas) (2025.2)\n",
      "Requirement already satisfied: tzdata>=2022.7 in c:\\users\\kv965\\appdata\\local\\programs\\python\\python311\\lib\\site-packages (from pandas) (2025.2)\n",
      "Collecting et-xmlfile (from openpyxl)\n",
      "  Downloading et_xmlfile-2.0.0-py3-none-any.whl.metadata (2.7 kB)\n",
      "Requirement already satisfied: six>=1.5 in c:\\users\\kv965\\appdata\\local\\programs\\python\\python311\\lib\\site-packages (from python-dateutil>=2.8.2->pandas) (1.17.0)\n",
      "Downloading openpyxl-3.1.5-py2.py3-none-any.whl (250 kB)\n",
      "   ---------------------------------------- 0.0/250.9 kB ? eta -:--:--\n",
      "   - -------------------------------------- 10.2/250.9 kB ? eta -:--:--\n",
      "   ------ -------------------------------- 41.0/250.9 kB 487.6 kB/s eta 0:00:01\n",
      "   ------------------------ --------------- 153.6/250.9 kB 1.3 MB/s eta 0:00:01\n",
      "   ---------------------------------------- 250.9/250.9 kB 1.7 MB/s eta 0:00:00\n",
      "Downloading et_xmlfile-2.0.0-py3-none-any.whl (18 kB)\n",
      "Installing collected packages: et-xmlfile, openpyxl\n",
      "Successfully installed et-xmlfile-2.0.0 openpyxl-3.1.5\n",
      "Note: you may need to restart the kernel to use updated packages.\n"
     ]
    },
    {
     "name": "stderr",
     "output_type": "stream",
     "text": [
      "\n",
      "[notice] A new release of pip is available: 24.0 -> 25.1.1\n",
      "[notice] To update, run: python.exe -m pip install --upgrade pip\n"
     ]
    }
   ],
   "source": [
    "pip install pandas openpyxl"
   ]
  },
  {
   "cell_type": "code",
   "execution_count": 6,
   "id": "3d6d335f",
   "metadata": {},
   "outputs": [
    {
     "name": "stdout",
     "output_type": "stream",
     "text": [
      "Successfully converted 'sample1.json' to sheet 'JSON_Data'.\n",
      "Input file not found: 'data.xml'. Skipping.\n",
      "\n",
      "Conversion complete. The data has been saved to 'output.xlsx'.\n"
     ]
    }
   ],
   "source": [
    "import pandas as pd\n",
    "import xml.etree.ElementTree as ET\n",
    "import os\n",
    "import json # NEW: Import the built-in json library\n",
    "\n",
    "def json_to_excel_sheet(json_file, excel_writer, sheet_name):\n",
    "    \"\"\"\n",
    "    Reads data from a JSON file and writes it to a specific sheet in an Excel file.\n",
    "    This version handles both a list of objects and a single object.\n",
    "    \"\"\"\n",
    "    try:\n",
    "        # --- MODIFIED SECTION ---\n",
    "        # First, open and load the file using the json library\n",
    "        with open(json_file, 'r') as f:\n",
    "            data = json.load(f)\n",
    "\n",
    "        # Check if the data is a single dictionary (an object)\n",
    "        # If so, wrap it in a list to create a single-row DataFrame\n",
    "        if isinstance(data, dict):\n",
    "            df_json = pd.DataFrame([data])\n",
    "        else:\n",
    "            # If it's already a list, create the DataFrame as before\n",
    "            df_json = pd.DataFrame(data)\n",
    "        # --- END MODIFIED SECTION ---\n",
    "\n",
    "        # Write the DataFrame to a new sheet in the Excel file\n",
    "        df_json.to_excel(excel_writer, sheet_name=sheet_name, index=False)\n",
    "        print(f\"Successfully converted '{json_file}' to sheet '{sheet_name}'.\")\n",
    "\n",
    "    except Exception as e:\n",
    "        print(f\"An error occurred during JSON to Excel conversion: {e}\")\n",
    "\n",
    "def xml_to_excel_sheet(xml_file, excel_writer, sheet_name):\n",
    "    \"\"\"\n",
    "    Reads data from an XML file and writes it to a specific sheet in an Excel file.\n",
    "    \"\"\"\n",
    "    try:\n",
    "        tree = ET.parse(xml_file)\n",
    "        root = tree.getroot()\n",
    "        data_list = []\n",
    "        for item in root:\n",
    "            data = {}\n",
    "            for child in item:\n",
    "                data[child.tag] = child.text\n",
    "            data_list.append(data)\n",
    "        df_xml = pd.DataFrame(data_list)\n",
    "        df_xml.to_excel(excel_writer, sheet_name=sheet_name, index=False)\n",
    "        print(f\"Successfully converted '{xml_file}' to sheet '{sheet_name}'.\")\n",
    "    except Exception as e:\n",
    "        print(f\"An error occurred during XML to Excel conversion: {e}\")\n",
    "\n",
    "if __name__ == \"__main__\":\n",
    "    json_input_file = 'sample1.json'\n",
    "    xml_input_file = 'data.xml'\n",
    "    excel_output_file = 'output.xlsx'\n",
    "\n",
    "    # Create a pandas ExcelWriter object\n",
    "    with pd.ExcelWriter(excel_output_file, engine='openpyxl') as writer:\n",
    "        \n",
    "        # Check if the JSON file exists before processing\n",
    "        if os.path.exists(json_input_file):\n",
    "            json_to_excel_sheet(json_input_file, writer, 'JSON_Data')\n",
    "        else:\n",
    "            print(f\"Input file not found: '{json_input_file}'. Skipping.\")\n",
    "\n",
    "        # Check if the XML file exists before processing\n",
    "        if os.path.exists(xml_input_file):\n",
    "            xml_to_excel_sheet(xml_input_file, writer, 'XML_Data')\n",
    "        else:\n",
    "            print(f\"Input file not found: '{xml_input_file}'. Skipping.\")\n",
    "\n",
    "    print(f\"\\nConversion complete. The data has been saved to '{excel_output_file}'.\")"
   ]
  }
 ],
 "metadata": {
  "kernelspec": {
   "display_name": "Python 3",
   "language": "python",
   "name": "python3"
  },
  "language_info": {
   "codemirror_mode": {
    "name": "ipython",
    "version": 3
   },
   "file_extension": ".py",
   "mimetype": "text/x-python",
   "name": "python",
   "nbconvert_exporter": "python",
   "pygments_lexer": "ipython3",
   "version": "3.11.8"
  }
 },
 "nbformat": 4,
 "nbformat_minor": 5
}
